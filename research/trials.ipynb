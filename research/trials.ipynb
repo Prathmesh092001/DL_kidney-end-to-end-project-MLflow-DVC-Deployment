{
 "cells": [
  {
   "cell_type": "code",
   "execution_count": 1,
   "id": "69c6fbfd",
   "metadata": {},
   "outputs": [
    {
     "data": {
      "text/plain": [
       "10"
      ]
     },
     "execution_count": 1,
     "metadata": {},
     "output_type": "execute_result"
    }
   ],
   "source": [
    "5+5"
   ]
  },
  {
   "cell_type": "code",
   "execution_count": 2,
   "id": "95925aa7",
   "metadata": {},
   "outputs": [],
   "source": [
    "d = {\"key\":\"val\", \"key2\":\"val1\"}"
   ]
  },
  {
   "cell_type": "code",
   "execution_count": 5,
   "id": "b2866531",
   "metadata": {},
   "outputs": [
    {
     "data": {
      "text/plain": [
       "'val1'"
      ]
     },
     "execution_count": 5,
     "metadata": {},
     "output_type": "execute_result"
    }
   ],
   "source": [
    "d[\"key2\"]"
   ]
  },
  {
   "cell_type": "code",
   "execution_count": 1,
   "id": "da995996",
   "metadata": {},
   "outputs": [],
   "source": [
    "from box import ConfigBox"
   ]
  },
  {
   "cell_type": "code",
   "execution_count": null,
   "id": "76f32599",
   "metadata": {},
   "outputs": [],
   "source": []
  },
  {
   "cell_type": "markdown",
   "id": "a3e0f5a6",
   "metadata": {},
   "source": [
    "## Download data from gdrive"
   ]
  },
  {
   "cell_type": "code",
   "execution_count": 1,
   "id": "11ad45c1",
   "metadata": {},
   "outputs": [],
   "source": [
    "import gdown"
   ]
  },
  {
   "cell_type": "code",
   "execution_count": 2,
   "id": "c62fe53d",
   "metadata": {},
   "outputs": [],
   "source": [
    "url = [\"https://drive.google.com/file/d/1Q9IX0u24Zhoz91gQ0AbaVko-jneyhCsF/view?usp=sharing\"]"
   ]
  },
  {
   "cell_type": "code",
   "execution_count": 8,
   "id": "3caee926",
   "metadata": {},
   "outputs": [
    {
     "data": {
      "text/plain": [
       "'1Q9IX0u24Zhoz91gQ0AbaVko-jneyhCsF'"
      ]
     },
     "execution_count": 8,
     "metadata": {},
     "output_type": "execute_result"
    }
   ],
   "source": [
    "file_id = url[0].split(\"/\")[-2]\n",
    "file_id"
   ]
  },
  {
   "cell_type": "code",
   "execution_count": 10,
   "id": "d3397ede",
   "metadata": {},
   "outputs": [
    {
     "name": "stderr",
     "output_type": "stream",
     "text": [
      "Downloading...\n",
      "From (original): https://drive.google.com/uc?/export=download&id=1Q9IX0u24Zhoz91gQ0AbaVko-jneyhCsF\n",
      "From (redirected): https://drive.google.com/uc?%2Fexport=download&id=1Q9IX0u24Zhoz91gQ0AbaVko-jneyhCsF&confirm=t&uuid=2e46282f-453b-4d60-b27e-65b9f2fc1244\n",
      "To: c:\\Users\\prath\\OneDrive\\Desktop\\Gen_AI\\DL_kidney-end-to-end-project-MLflow-DVC-Deployment\\research\\kidney-CT-Scan-data.zip\n",
      "100%|██████████| 210M/210M [00:35<00:00, 6.00MB/s] \n"
     ]
    },
    {
     "data": {
      "text/plain": [
       "'kidney-CT-Scan-data.zip'"
      ]
     },
     "execution_count": 10,
     "metadata": {},
     "output_type": "execute_result"
    }
   ],
   "source": [
    "prefix = 'https://drive.google.com/uc?/export=download&id='\n",
    "gdown.download(prefix+file_id, \"kidney-CT-Scan-data.zip\")"
   ]
  },
  {
   "cell_type": "code",
   "execution_count": null,
   "id": "97f08ec9",
   "metadata": {},
   "outputs": [],
   "source": []
  }
 ],
 "metadata": {
  "kernelspec": {
   "display_name": "kidney",
   "language": "python",
   "name": "python3"
  },
  "language_info": {
   "codemirror_mode": {
    "name": "ipython",
    "version": 3
   },
   "file_extension": ".py",
   "mimetype": "text/x-python",
   "name": "python",
   "nbconvert_exporter": "python",
   "pygments_lexer": "ipython3",
   "version": "3.11.13"
  }
 },
 "nbformat": 4,
 "nbformat_minor": 5
}
